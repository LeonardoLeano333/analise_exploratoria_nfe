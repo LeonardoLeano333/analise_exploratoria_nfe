{
 "cells": [
  {
   "cell_type": "markdown",
   "id": "d1f5d8c1-5707-406e-a49e-5997c81aa59d",
   "metadata": {},
   "source": [
    "# Exploration"
   ]
  },
  {
   "cell_type": "code",
   "execution_count": 1,
   "id": "74f506f1-7119-46b5-8fa5-26195cca08b1",
   "metadata": {},
   "outputs": [],
   "source": [
    "import pandas as pd\n",
    "import matplotlib.pyplot as plt\n",
    "import seaborn as sns\n",
    "import numpy as np"
   ]
  },
  {
   "cell_type": "code",
   "execution_count": 2,
   "id": "5952752b-05a3-49ba-9909-c2239b6e3e80",
   "metadata": {},
   "outputs": [],
   "source": [
    "excel_data: pd.DataFrame = pd.read_excel(\"input/sample.xls\", sheet_name=None)"
   ]
  },
  {
   "cell_type": "code",
   "execution_count": 3,
   "id": "32694241-e42e-4e12-a1c3-b9fa1a22bf39",
   "metadata": {},
   "outputs": [
    {
     "data": {
      "text/plain": [
       "dict_keys(['Orders', 'Returns', 'People'])"
      ]
     },
     "execution_count": 3,
     "metadata": {},
     "output_type": "execute_result"
    }
   ],
   "source": [
    "excel_data.keys()"
   ]
  },
  {
   "cell_type": "code",
   "execution_count": 4,
   "id": "81c2e0ef-ee8c-4f34-bfec-849e66aa528a",
   "metadata": {},
   "outputs": [],
   "source": [
    "orders = excel_data[\"Orders\"] \n",
    "returns = excel_data[\"Returns\"]\n",
    "people = excel_data[\"People\"]"
   ]
  },
  {
   "cell_type": "code",
   "execution_count": 5,
   "id": "55c3e64e-155a-42c8-9472-2d04cb9d5035",
   "metadata": {},
   "outputs": [
    {
     "data": {
      "text/html": [
       "<div>\n",
       "<style scoped>\n",
       "    .dataframe tbody tr th:only-of-type {\n",
       "        vertical-align: middle;\n",
       "    }\n",
       "\n",
       "    .dataframe tbody tr th {\n",
       "        vertical-align: top;\n",
       "    }\n",
       "\n",
       "    .dataframe thead th {\n",
       "        text-align: right;\n",
       "    }\n",
       "</style>\n",
       "<table border=\"1\" class=\"dataframe\">\n",
       "  <thead>\n",
       "    <tr style=\"text-align: right;\">\n",
       "      <th></th>\n",
       "      <th>Returned</th>\n",
       "      <th>Order ID</th>\n",
       "    </tr>\n",
       "  </thead>\n",
       "  <tbody>\n",
       "    <tr>\n",
       "      <th>0</th>\n",
       "      <td>Yes</td>\n",
       "      <td>CA-2017-153822</td>\n",
       "    </tr>\n",
       "    <tr>\n",
       "      <th>1</th>\n",
       "      <td>Yes</td>\n",
       "      <td>CA-2017-129707</td>\n",
       "    </tr>\n",
       "    <tr>\n",
       "      <th>2</th>\n",
       "      <td>Yes</td>\n",
       "      <td>CA-2014-152345</td>\n",
       "    </tr>\n",
       "    <tr>\n",
       "      <th>3</th>\n",
       "      <td>Yes</td>\n",
       "      <td>CA-2015-156440</td>\n",
       "    </tr>\n",
       "    <tr>\n",
       "      <th>4</th>\n",
       "      <td>Yes</td>\n",
       "      <td>US-2017-155999</td>\n",
       "    </tr>\n",
       "    <tr>\n",
       "      <th>...</th>\n",
       "      <td>...</td>\n",
       "      <td>...</td>\n",
       "    </tr>\n",
       "    <tr>\n",
       "      <th>291</th>\n",
       "      <td>Yes</td>\n",
       "      <td>CA-2015-101910</td>\n",
       "    </tr>\n",
       "    <tr>\n",
       "      <th>292</th>\n",
       "      <td>Yes</td>\n",
       "      <td>CA-2017-156958</td>\n",
       "    </tr>\n",
       "    <tr>\n",
       "      <th>293</th>\n",
       "      <td>Yes</td>\n",
       "      <td>CA-2016-105585</td>\n",
       "    </tr>\n",
       "    <tr>\n",
       "      <th>294</th>\n",
       "      <td>Yes</td>\n",
       "      <td>CA-2016-148796</td>\n",
       "    </tr>\n",
       "    <tr>\n",
       "      <th>295</th>\n",
       "      <td>Yes</td>\n",
       "      <td>CA-2015-149636</td>\n",
       "    </tr>\n",
       "  </tbody>\n",
       "</table>\n",
       "<p>296 rows × 2 columns</p>\n",
       "</div>"
      ],
      "text/plain": [
       "    Returned        Order ID\n",
       "0        Yes  CA-2017-153822\n",
       "1        Yes  CA-2017-129707\n",
       "2        Yes  CA-2014-152345\n",
       "3        Yes  CA-2015-156440\n",
       "4        Yes  US-2017-155999\n",
       "..       ...             ...\n",
       "291      Yes  CA-2015-101910\n",
       "292      Yes  CA-2017-156958\n",
       "293      Yes  CA-2016-105585\n",
       "294      Yes  CA-2016-148796\n",
       "295      Yes  CA-2015-149636\n",
       "\n",
       "[296 rows x 2 columns]"
      ]
     },
     "execution_count": 5,
     "metadata": {},
     "output_type": "execute_result"
    }
   ],
   "source": [
    "returns"
   ]
  },
  {
   "cell_type": "code",
   "execution_count": 6,
   "id": "9c4a05d8-31af-4cea-b13c-c59a7b9d1d74",
   "metadata": {},
   "outputs": [
    {
     "data": {
      "text/html": [
       "<div>\n",
       "<style scoped>\n",
       "    .dataframe tbody tr th:only-of-type {\n",
       "        vertical-align: middle;\n",
       "    }\n",
       "\n",
       "    .dataframe tbody tr th {\n",
       "        vertical-align: top;\n",
       "    }\n",
       "\n",
       "    .dataframe thead th {\n",
       "        text-align: right;\n",
       "    }\n",
       "</style>\n",
       "<table border=\"1\" class=\"dataframe\">\n",
       "  <thead>\n",
       "    <tr style=\"text-align: right;\">\n",
       "      <th></th>\n",
       "      <th>Person</th>\n",
       "      <th>Region</th>\n",
       "    </tr>\n",
       "  </thead>\n",
       "  <tbody>\n",
       "    <tr>\n",
       "      <th>0</th>\n",
       "      <td>Anna Andreadi</td>\n",
       "      <td>West</td>\n",
       "    </tr>\n",
       "    <tr>\n",
       "      <th>1</th>\n",
       "      <td>Chuck Magee</td>\n",
       "      <td>East</td>\n",
       "    </tr>\n",
       "    <tr>\n",
       "      <th>2</th>\n",
       "      <td>Kelly Williams</td>\n",
       "      <td>Central</td>\n",
       "    </tr>\n",
       "    <tr>\n",
       "      <th>3</th>\n",
       "      <td>Cassandra Brandow</td>\n",
       "      <td>South</td>\n",
       "    </tr>\n",
       "  </tbody>\n",
       "</table>\n",
       "</div>"
      ],
      "text/plain": [
       "              Person   Region\n",
       "0      Anna Andreadi     West\n",
       "1        Chuck Magee     East\n",
       "2     Kelly Williams  Central\n",
       "3  Cassandra Brandow    South"
      ]
     },
     "execution_count": 6,
     "metadata": {},
     "output_type": "execute_result"
    }
   ],
   "source": [
    "people"
   ]
  },
  {
   "cell_type": "code",
   "execution_count": 7,
   "id": "65483c8a-23b3-486a-97f6-6267d1d94e38",
   "metadata": {},
   "outputs": [
    {
     "data": {
      "text/plain": [
       "Index(['Row ID', 'Order ID', 'Order Date', 'Ship Date', 'Ship Mode',\n",
       "       'Customer ID', 'Customer Name', 'Segment', 'Country', 'City', 'State',\n",
       "       'Postal Code', 'Region', 'Product ID', 'Category', 'Sub-Category',\n",
       "       'Product Name', 'Sales', 'Quantity', 'Discount', 'Profit'],\n",
       "      dtype='object')"
      ]
     },
     "execution_count": 7,
     "metadata": {},
     "output_type": "execute_result"
    }
   ],
   "source": [
    "orders.keys()"
   ]
  },
  {
   "cell_type": "code",
   "execution_count": 8,
   "id": "bae9ec93-a4b0-49c6-bdae-758933a80794",
   "metadata": {},
   "outputs": [
    {
     "data": {
      "text/html": [
       "<div>\n",
       "<style scoped>\n",
       "    .dataframe tbody tr th:only-of-type {\n",
       "        vertical-align: middle;\n",
       "    }\n",
       "\n",
       "    .dataframe tbody tr th {\n",
       "        vertical-align: top;\n",
       "    }\n",
       "\n",
       "    .dataframe thead th {\n",
       "        text-align: right;\n",
       "    }\n",
       "</style>\n",
       "<table border=\"1\" class=\"dataframe\">\n",
       "  <thead>\n",
       "    <tr style=\"text-align: right;\">\n",
       "      <th></th>\n",
       "      <th>Row ID</th>\n",
       "      <th>Order ID</th>\n",
       "      <th>Order Date</th>\n",
       "      <th>Ship Date</th>\n",
       "      <th>Ship Mode</th>\n",
       "      <th>Customer ID</th>\n",
       "      <th>Customer Name</th>\n",
       "      <th>Segment</th>\n",
       "      <th>Country</th>\n",
       "      <th>City</th>\n",
       "      <th>...</th>\n",
       "      <th>Postal Code</th>\n",
       "      <th>Region</th>\n",
       "      <th>Product ID</th>\n",
       "      <th>Category</th>\n",
       "      <th>Sub-Category</th>\n",
       "      <th>Product Name</th>\n",
       "      <th>Sales</th>\n",
       "      <th>Quantity</th>\n",
       "      <th>Discount</th>\n",
       "      <th>Profit</th>\n",
       "    </tr>\n",
       "  </thead>\n",
       "  <tbody>\n",
       "    <tr>\n",
       "      <th>3</th>\n",
       "      <td>4</td>\n",
       "      <td>US-2015-108966</td>\n",
       "      <td>2015-10-11</td>\n",
       "      <td>2015-10-18</td>\n",
       "      <td>Standard Class</td>\n",
       "      <td>SO-20335</td>\n",
       "      <td>Sean O'Donnell</td>\n",
       "      <td>Consumer</td>\n",
       "      <td>United States</td>\n",
       "      <td>Fort Lauderdale</td>\n",
       "      <td>...</td>\n",
       "      <td>33311</td>\n",
       "      <td>South</td>\n",
       "      <td>FUR-TA-10000577</td>\n",
       "      <td>Furniture</td>\n",
       "      <td>Tables</td>\n",
       "      <td>Bretford CR4500 Series Slim Rectangular Table</td>\n",
       "      <td>957.5775</td>\n",
       "      <td>5</td>\n",
       "      <td>0.45</td>\n",
       "      <td>-383.0310</td>\n",
       "    </tr>\n",
       "    <tr>\n",
       "      <th>14</th>\n",
       "      <td>15</td>\n",
       "      <td>US-2015-118983</td>\n",
       "      <td>2015-11-22</td>\n",
       "      <td>2015-11-26</td>\n",
       "      <td>Standard Class</td>\n",
       "      <td>HP-14815</td>\n",
       "      <td>Harold Pawlan</td>\n",
       "      <td>Home Office</td>\n",
       "      <td>United States</td>\n",
       "      <td>Fort Worth</td>\n",
       "      <td>...</td>\n",
       "      <td>76106</td>\n",
       "      <td>Central</td>\n",
       "      <td>OFF-AP-10002311</td>\n",
       "      <td>Office Supplies</td>\n",
       "      <td>Appliances</td>\n",
       "      <td>Holmes Replacement Filter for HEPA Air Cleaner...</td>\n",
       "      <td>68.8100</td>\n",
       "      <td>5</td>\n",
       "      <td>0.80</td>\n",
       "      <td>-123.8580</td>\n",
       "    </tr>\n",
       "    <tr>\n",
       "      <th>15</th>\n",
       "      <td>16</td>\n",
       "      <td>US-2015-118983</td>\n",
       "      <td>2015-11-22</td>\n",
       "      <td>2015-11-26</td>\n",
       "      <td>Standard Class</td>\n",
       "      <td>HP-14815</td>\n",
       "      <td>Harold Pawlan</td>\n",
       "      <td>Home Office</td>\n",
       "      <td>United States</td>\n",
       "      <td>Fort Worth</td>\n",
       "      <td>...</td>\n",
       "      <td>76106</td>\n",
       "      <td>Central</td>\n",
       "      <td>OFF-BI-10000756</td>\n",
       "      <td>Office Supplies</td>\n",
       "      <td>Binders</td>\n",
       "      <td>Storex DuraTech Recycled Plastic Frosted Binders</td>\n",
       "      <td>2.5440</td>\n",
       "      <td>3</td>\n",
       "      <td>0.80</td>\n",
       "      <td>-3.8160</td>\n",
       "    </tr>\n",
       "    <tr>\n",
       "      <th>23</th>\n",
       "      <td>24</td>\n",
       "      <td>US-2017-156909</td>\n",
       "      <td>2017-07-16</td>\n",
       "      <td>2017-07-18</td>\n",
       "      <td>Second Class</td>\n",
       "      <td>SF-20065</td>\n",
       "      <td>Sandra Flanagan</td>\n",
       "      <td>Consumer</td>\n",
       "      <td>United States</td>\n",
       "      <td>Philadelphia</td>\n",
       "      <td>...</td>\n",
       "      <td>19140</td>\n",
       "      <td>East</td>\n",
       "      <td>FUR-CH-10002774</td>\n",
       "      <td>Furniture</td>\n",
       "      <td>Chairs</td>\n",
       "      <td>Global Deluxe Stacking Chair, Gray</td>\n",
       "      <td>71.3720</td>\n",
       "      <td>2</td>\n",
       "      <td>0.30</td>\n",
       "      <td>-1.0196</td>\n",
       "    </tr>\n",
       "    <tr>\n",
       "      <th>27</th>\n",
       "      <td>28</td>\n",
       "      <td>US-2015-150630</td>\n",
       "      <td>2015-09-17</td>\n",
       "      <td>2015-09-21</td>\n",
       "      <td>Standard Class</td>\n",
       "      <td>TB-21520</td>\n",
       "      <td>Tracy Blumstein</td>\n",
       "      <td>Consumer</td>\n",
       "      <td>United States</td>\n",
       "      <td>Philadelphia</td>\n",
       "      <td>...</td>\n",
       "      <td>19140</td>\n",
       "      <td>East</td>\n",
       "      <td>FUR-BO-10004834</td>\n",
       "      <td>Furniture</td>\n",
       "      <td>Bookcases</td>\n",
       "      <td>Riverside Palais Royal Lawyers Bookcase, Royal...</td>\n",
       "      <td>3083.4300</td>\n",
       "      <td>7</td>\n",
       "      <td>0.50</td>\n",
       "      <td>-1665.0522</td>\n",
       "    </tr>\n",
       "    <tr>\n",
       "      <th>...</th>\n",
       "      <td>...</td>\n",
       "      <td>...</td>\n",
       "      <td>...</td>\n",
       "      <td>...</td>\n",
       "      <td>...</td>\n",
       "      <td>...</td>\n",
       "      <td>...</td>\n",
       "      <td>...</td>\n",
       "      <td>...</td>\n",
       "      <td>...</td>\n",
       "      <td>...</td>\n",
       "      <td>...</td>\n",
       "      <td>...</td>\n",
       "      <td>...</td>\n",
       "      <td>...</td>\n",
       "      <td>...</td>\n",
       "      <td>...</td>\n",
       "      <td>...</td>\n",
       "      <td>...</td>\n",
       "      <td>...</td>\n",
       "      <td>...</td>\n",
       "    </tr>\n",
       "    <tr>\n",
       "      <th>9921</th>\n",
       "      <td>9922</td>\n",
       "      <td>CA-2014-111360</td>\n",
       "      <td>2014-11-24</td>\n",
       "      <td>2014-11-30</td>\n",
       "      <td>Standard Class</td>\n",
       "      <td>AT-10435</td>\n",
       "      <td>Alyssa Tate</td>\n",
       "      <td>Home Office</td>\n",
       "      <td>United States</td>\n",
       "      <td>Akron</td>\n",
       "      <td>...</td>\n",
       "      <td>44312</td>\n",
       "      <td>East</td>\n",
       "      <td>OFF-BI-10003350</td>\n",
       "      <td>Office Supplies</td>\n",
       "      <td>Binders</td>\n",
       "      <td>Acco Expandable Hanging Binders</td>\n",
       "      <td>5.7420</td>\n",
       "      <td>3</td>\n",
       "      <td>0.70</td>\n",
       "      <td>-4.5936</td>\n",
       "    </tr>\n",
       "    <tr>\n",
       "      <th>9931</th>\n",
       "      <td>9932</td>\n",
       "      <td>CA-2015-104948</td>\n",
       "      <td>2015-11-13</td>\n",
       "      <td>2015-11-17</td>\n",
       "      <td>Standard Class</td>\n",
       "      <td>KH-16510</td>\n",
       "      <td>Keith Herrera</td>\n",
       "      <td>Consumer</td>\n",
       "      <td>United States</td>\n",
       "      <td>San Bernardino</td>\n",
       "      <td>...</td>\n",
       "      <td>92404</td>\n",
       "      <td>West</td>\n",
       "      <td>FUR-BO-10004357</td>\n",
       "      <td>Furniture</td>\n",
       "      <td>Bookcases</td>\n",
       "      <td>O'Sullivan Living Dimensions 3-Shelf Bookcases</td>\n",
       "      <td>683.3320</td>\n",
       "      <td>4</td>\n",
       "      <td>0.15</td>\n",
       "      <td>-40.1960</td>\n",
       "    </tr>\n",
       "    <tr>\n",
       "      <th>9937</th>\n",
       "      <td>9938</td>\n",
       "      <td>CA-2016-164889</td>\n",
       "      <td>2016-06-03</td>\n",
       "      <td>2016-06-06</td>\n",
       "      <td>Second Class</td>\n",
       "      <td>CP-12340</td>\n",
       "      <td>Christine Phan</td>\n",
       "      <td>Corporate</td>\n",
       "      <td>United States</td>\n",
       "      <td>Los Angeles</td>\n",
       "      <td>...</td>\n",
       "      <td>90049</td>\n",
       "      <td>West</td>\n",
       "      <td>FUR-TA-10001676</td>\n",
       "      <td>Furniture</td>\n",
       "      <td>Tables</td>\n",
       "      <td>Hon 61000 Series Interactive Training Tables</td>\n",
       "      <td>71.0880</td>\n",
       "      <td>2</td>\n",
       "      <td>0.20</td>\n",
       "      <td>-1.7772</td>\n",
       "    </tr>\n",
       "    <tr>\n",
       "      <th>9962</th>\n",
       "      <td>9963</td>\n",
       "      <td>CA-2015-168088</td>\n",
       "      <td>2015-03-19</td>\n",
       "      <td>2015-03-22</td>\n",
       "      <td>First Class</td>\n",
       "      <td>CM-12655</td>\n",
       "      <td>Corinna Mitchell</td>\n",
       "      <td>Home Office</td>\n",
       "      <td>United States</td>\n",
       "      <td>Houston</td>\n",
       "      <td>...</td>\n",
       "      <td>77041</td>\n",
       "      <td>Central</td>\n",
       "      <td>FUR-BO-10004218</td>\n",
       "      <td>Furniture</td>\n",
       "      <td>Bookcases</td>\n",
       "      <td>Bush Heritage Pine Collection 5-Shelf Bookcase...</td>\n",
       "      <td>383.4656</td>\n",
       "      <td>4</td>\n",
       "      <td>0.32</td>\n",
       "      <td>-67.6704</td>\n",
       "    </tr>\n",
       "    <tr>\n",
       "      <th>9977</th>\n",
       "      <td>9978</td>\n",
       "      <td>US-2016-103674</td>\n",
       "      <td>2016-12-06</td>\n",
       "      <td>2016-12-10</td>\n",
       "      <td>Standard Class</td>\n",
       "      <td>AP-10720</td>\n",
       "      <td>Anne Pryor</td>\n",
       "      <td>Home Office</td>\n",
       "      <td>United States</td>\n",
       "      <td>Los Angeles</td>\n",
       "      <td>...</td>\n",
       "      <td>90032</td>\n",
       "      <td>West</td>\n",
       "      <td>OFF-FA-10003467</td>\n",
       "      <td>Office Supplies</td>\n",
       "      <td>Fasteners</td>\n",
       "      <td>Alliance Big Bands Rubber Bands, 12/Pack</td>\n",
       "      <td>13.8600</td>\n",
       "      <td>7</td>\n",
       "      <td>0.00</td>\n",
       "      <td>0.0000</td>\n",
       "    </tr>\n",
       "  </tbody>\n",
       "</table>\n",
       "<p>1936 rows × 21 columns</p>\n",
       "</div>"
      ],
      "text/plain": [
       "      Row ID        Order ID Order Date  Ship Date       Ship Mode  \\\n",
       "3          4  US-2015-108966 2015-10-11 2015-10-18  Standard Class   \n",
       "14        15  US-2015-118983 2015-11-22 2015-11-26  Standard Class   \n",
       "15        16  US-2015-118983 2015-11-22 2015-11-26  Standard Class   \n",
       "23        24  US-2017-156909 2017-07-16 2017-07-18    Second Class   \n",
       "27        28  US-2015-150630 2015-09-17 2015-09-21  Standard Class   \n",
       "...      ...             ...        ...        ...             ...   \n",
       "9921    9922  CA-2014-111360 2014-11-24 2014-11-30  Standard Class   \n",
       "9931    9932  CA-2015-104948 2015-11-13 2015-11-17  Standard Class   \n",
       "9937    9938  CA-2016-164889 2016-06-03 2016-06-06    Second Class   \n",
       "9962    9963  CA-2015-168088 2015-03-19 2015-03-22     First Class   \n",
       "9977    9978  US-2016-103674 2016-12-06 2016-12-10  Standard Class   \n",
       "\n",
       "     Customer ID     Customer Name      Segment        Country  \\\n",
       "3       SO-20335    Sean O'Donnell     Consumer  United States   \n",
       "14      HP-14815     Harold Pawlan  Home Office  United States   \n",
       "15      HP-14815     Harold Pawlan  Home Office  United States   \n",
       "23      SF-20065   Sandra Flanagan     Consumer  United States   \n",
       "27      TB-21520   Tracy Blumstein     Consumer  United States   \n",
       "...          ...               ...          ...            ...   \n",
       "9921    AT-10435       Alyssa Tate  Home Office  United States   \n",
       "9931    KH-16510     Keith Herrera     Consumer  United States   \n",
       "9937    CP-12340    Christine Phan    Corporate  United States   \n",
       "9962    CM-12655  Corinna Mitchell  Home Office  United States   \n",
       "9977    AP-10720        Anne Pryor  Home Office  United States   \n",
       "\n",
       "                 City  ... Postal Code   Region       Product ID  \\\n",
       "3     Fort Lauderdale  ...       33311    South  FUR-TA-10000577   \n",
       "14         Fort Worth  ...       76106  Central  OFF-AP-10002311   \n",
       "15         Fort Worth  ...       76106  Central  OFF-BI-10000756   \n",
       "23       Philadelphia  ...       19140     East  FUR-CH-10002774   \n",
       "27       Philadelphia  ...       19140     East  FUR-BO-10004834   \n",
       "...               ...  ...         ...      ...              ...   \n",
       "9921            Akron  ...       44312     East  OFF-BI-10003350   \n",
       "9931   San Bernardino  ...       92404     West  FUR-BO-10004357   \n",
       "9937      Los Angeles  ...       90049     West  FUR-TA-10001676   \n",
       "9962          Houston  ...       77041  Central  FUR-BO-10004218   \n",
       "9977      Los Angeles  ...       90032     West  OFF-FA-10003467   \n",
       "\n",
       "             Category Sub-Category  \\\n",
       "3           Furniture       Tables   \n",
       "14    Office Supplies   Appliances   \n",
       "15    Office Supplies      Binders   \n",
       "23          Furniture       Chairs   \n",
       "27          Furniture    Bookcases   \n",
       "...               ...          ...   \n",
       "9921  Office Supplies      Binders   \n",
       "9931        Furniture    Bookcases   \n",
       "9937        Furniture       Tables   \n",
       "9962        Furniture    Bookcases   \n",
       "9977  Office Supplies    Fasteners   \n",
       "\n",
       "                                           Product Name      Sales  Quantity  \\\n",
       "3         Bretford CR4500 Series Slim Rectangular Table   957.5775         5   \n",
       "14    Holmes Replacement Filter for HEPA Air Cleaner...    68.8100         5   \n",
       "15     Storex DuraTech Recycled Plastic Frosted Binders     2.5440         3   \n",
       "23                   Global Deluxe Stacking Chair, Gray    71.3720         2   \n",
       "27    Riverside Palais Royal Lawyers Bookcase, Royal...  3083.4300         7   \n",
       "...                                                 ...        ...       ...   \n",
       "9921                    Acco Expandable Hanging Binders     5.7420         3   \n",
       "9931     O'Sullivan Living Dimensions 3-Shelf Bookcases   683.3320         4   \n",
       "9937       Hon 61000 Series Interactive Training Tables    71.0880         2   \n",
       "9962  Bush Heritage Pine Collection 5-Shelf Bookcase...   383.4656         4   \n",
       "9977           Alliance Big Bands Rubber Bands, 12/Pack    13.8600         7   \n",
       "\n",
       "      Discount     Profit  \n",
       "3         0.45  -383.0310  \n",
       "14        0.80  -123.8580  \n",
       "15        0.80    -3.8160  \n",
       "23        0.30    -1.0196  \n",
       "27        0.50 -1665.0522  \n",
       "...        ...        ...  \n",
       "9921      0.70    -4.5936  \n",
       "9931      0.15   -40.1960  \n",
       "9937      0.20    -1.7772  \n",
       "9962      0.32   -67.6704  \n",
       "9977      0.00     0.0000  \n",
       "\n",
       "[1936 rows x 21 columns]"
      ]
     },
     "execution_count": 8,
     "metadata": {},
     "output_type": "execute_result"
    }
   ],
   "source": [
    "orders[orders[\"Profit\"] <= 0 ]"
   ]
  },
  {
   "cell_type": "code",
   "execution_count": 9,
   "id": "a5cbd8a0-84ec-4965-8e1d-ed959fde9ec8",
   "metadata": {
    "scrolled": true
   },
   "outputs": [
    {
     "data": {
      "text/plain": [
       "array(['South', 'West', 'Central', 'East'], dtype=object)"
      ]
     },
     "execution_count": 9,
     "metadata": {},
     "output_type": "execute_result"
    }
   ],
   "source": [
    "orders[\"Region\"].unique()"
   ]
  },
  {
   "cell_type": "markdown",
   "id": "3f03f2f3-f72a-4f20-9d05-0f52ad3c2769",
   "metadata": {},
   "source": [
    "## histogram to get a view of all data about profit"
   ]
  },
  {
   "cell_type": "code",
   "execution_count": 10,
   "id": "8f51907d-b3a8-4b37-b97b-c7faa1e54ead",
   "metadata": {},
   "outputs": [],
   "source": [
    "df = orders[[\"Profit\",\"Region\"]]"
   ]
  },
  {
   "cell_type": "code",
   "execution_count": 11,
   "id": "3e0519cb-518c-45fc-ba87-d462facc95cc",
   "metadata": {},
   "outputs": [
    {
     "name": "stdout",
     "output_type": "stream",
     "text": [
      "profit_sumation: 286397.02\n",
      "profit_sumation_negative: -156131.29\n",
      "profit_sumation_positive: 442528.31\n",
      "profit_greater_value: 8399.98\n",
      "profit_smaller_value: -6599.98\n"
     ]
    }
   ],
   "source": [
    "profit_sumation =df[\"Profit\"].sum()\n",
    "profit_sumation_negative = df[\"Profit\"][df[\"Profit\"]<=0].sum()\n",
    "profit_sumation_positive = df[\"Profit\"][df[\"Profit\"]>0].sum()\n",
    "profit_greater_value = df[\"Profit\"].max()\n",
    "profit_smaller_value = df[\"Profit\"].min()\n",
    "print(f\"profit_sumation: {profit_sumation:.2f}\")\n",
    "print(f\"profit_sumation_negative: {profit_sumation_negative:.2f}\")\n",
    "print(f\"profit_sumation_positive: {profit_sumation_positive:.2f}\")\n",
    "print(f\"profit_greater_value: {profit_greater_value:.2f}\")\n",
    "print(f\"profit_smaller_value: {profit_smaller_value:.2f}\")"
   ]
  },
  {
   "cell_type": "code",
   "execution_count": 12,
   "id": "77c62ad2-78a8-4666-863a-8d73d3fbda5b",
   "metadata": {},
   "outputs": [
    {
     "data": {
      "text/plain": [
       "<seaborn.axisgrid.FacetGrid at 0x719fe00d3700>"
      ]
     },
     "execution_count": 12,
     "metadata": {},
     "output_type": "execute_result"
    },
    {
     "data": {
      "image/png": "[encoded data removed]",
      "text/plain": [
       "<Figure size 500x500 with 1 Axes>"
      ]
     },
     "metadata": {},
     "output_type": "display_data"
    }
   ],
   "source": [
    "sns.displot(df[\"Profit\"], binwidth=50)"
   ]
  },
  {
   "cell_type": "markdown",
   "id": "3e8cec13-677a-497a-b054-532c0f44499f",
   "metadata": {},
   "source": [
    "## Getting the statistical properties to get the outlier about the profit"
   ]
  },
  {
   "cell_type": "code",
   "execution_count": 13,
   "id": "dd2ef447-9250-4370-a780-a9eb020deec0",
   "metadata": {},
   "outputs": [
    {
     "name": "stdout",
     "output_type": "stream",
     "text": [
      "average: 28.66\n",
      "std: 234.25\n"
     ]
    }
   ],
   "source": [
    "avg = np.average(df[\"Profit\"])\n",
    "std = np.std(df[\"Profit\"])\n",
    "print(f\"average: {avg:.2f}\")\n",
    "print(f\"std: {std:.2f}\")"
   ]
  },
  {
   "cell_type": "markdown",
   "id": "6dcbb0c2-383c-4d6b-8813-996e77e71160",
   "metadata": {},
   "source": [
    "## removing every outlier n_sigma=3 times std left and rigth"
   ]
  },
  {
   "cell_type": "markdown",
   "id": "65bb821c-fade-451b-ba63-8a5d9068957c",
   "metadata": {},
   "source": [
    "### Worst Profit case scenarios"
   ]
  },
  {
   "cell_type": "code",
   "execution_count": 14,
   "id": "55391a6c-d886-4c2e-860f-2e59ee7d3bb9",
   "metadata": {},
   "outputs": [
    {
     "data": {
      "text/plain": [
       "37"
      ]
     },
     "execution_count": 14,
     "metadata": {},
     "output_type": "execute_result"
    }
   ],
   "source": [
    "# outlied to less\n",
    "n_sigma = 3\n",
    "df_profit_less = df[ df[\"Profit\"]<(avg - n_sigma*std)]\n",
    "len(df_profit_less)"
   ]
  },
  {
   "cell_type": "markdown",
   "id": "c596b030-d1fc-47ac-bd4f-7b50e36003b2",
   "metadata": {},
   "source": [
    "### Best Profit case scenarios"
   ]
  },
  {
   "cell_type": "code",
   "execution_count": 15,
   "id": "16b69aab-c6b1-4297-97c9-986d55a53873",
   "metadata": {},
   "outputs": [
    {
     "data": {
      "text/plain": [
       "70"
      ]
     },
     "execution_count": 15,
     "metadata": {},
     "output_type": "execute_result"
    }
   ],
   "source": [
    "# outlied to less\n",
    "n_sigma = 3\n",
    "df_profit_greater = df[ df[\"Profit\"]>(avg + n_sigma*std)]\n",
    "len(df_profit_greater)"
   ]
  },
  {
   "cell_type": "code",
   "execution_count": 16,
   "id": "567779cf-3dcb-45e0-b8d6-7aeb42429029",
   "metadata": {},
   "outputs": [
    {
     "data": {
      "text/plain": [
       "<seaborn.axisgrid.FacetGrid at 0x719fe018b970>"
      ]
     },
     "execution_count": 16,
     "metadata": {},
     "output_type": "execute_result"
    },
    {
     "data": {
      "image/png": "[encoded data removed]",
      "text/plain": [
       "<Figure size 500x500 with 1 Axes>"
      ]
     },
     "metadata": {},
     "output_type": "display_data"
    }
   ],
   "source": [
    "n_sigma = 3\n",
    "df_profit_cleaned = df[ df[\"Profit\"]<(avg + n_sigma*std)]\n",
    "df_profit_cleaned = df_profit_cleaned[df_profit_cleaned[\"Profit\"]>(avg - n_sigma*std) ]\n",
    "df_profit_cleaned\n",
    "sns.displot(df_profit_cleaned[\"Profit\"], binwidth=25)"
   ]
  },
  {
   "cell_type": "code",
   "execution_count": 17,
   "id": "4aebbaba-25c0-4911-b4fd-48fca65ceb79",
   "metadata": {},
   "outputs": [
    {
     "data": {
      "text/html": [
       "<div>\n",
       "<style scoped>\n",
       "    .dataframe tbody tr th:only-of-type {\n",
       "        vertical-align: middle;\n",
       "    }\n",
       "\n",
       "    .dataframe tbody tr th {\n",
       "        vertical-align: top;\n",
       "    }\n",
       "\n",
       "    .dataframe thead th {\n",
       "        text-align: right;\n",
       "    }\n",
       "</style>\n",
       "<table border=\"1\" class=\"dataframe\">\n",
       "  <thead>\n",
       "    <tr style=\"text-align: right;\">\n",
       "      <th></th>\n",
       "      <th>Profit</th>\n",
       "      <th>Region</th>\n",
       "    </tr>\n",
       "  </thead>\n",
       "  <tbody>\n",
       "    <tr>\n",
       "      <th>0</th>\n",
       "      <td>41.9136</td>\n",
       "      <td>South</td>\n",
       "    </tr>\n",
       "    <tr>\n",
       "      <th>1</th>\n",
       "      <td>219.5820</td>\n",
       "      <td>South</td>\n",
       "    </tr>\n",
       "    <tr>\n",
       "      <th>2</th>\n",
       "      <td>6.8714</td>\n",
       "      <td>West</td>\n",
       "    </tr>\n",
       "    <tr>\n",
       "      <th>3</th>\n",
       "      <td>-383.0310</td>\n",
       "      <td>South</td>\n",
       "    </tr>\n",
       "    <tr>\n",
       "      <th>4</th>\n",
       "      <td>2.5164</td>\n",
       "      <td>South</td>\n",
       "    </tr>\n",
       "    <tr>\n",
       "      <th>...</th>\n",
       "      <td>...</td>\n",
       "      <td>...</td>\n",
       "    </tr>\n",
       "    <tr>\n",
       "      <th>9989</th>\n",
       "      <td>4.1028</td>\n",
       "      <td>South</td>\n",
       "    </tr>\n",
       "    <tr>\n",
       "      <th>9990</th>\n",
       "      <td>15.6332</td>\n",
       "      <td>West</td>\n",
       "    </tr>\n",
       "    <tr>\n",
       "      <th>9991</th>\n",
       "      <td>19.3932</td>\n",
       "      <td>West</td>\n",
       "    </tr>\n",
       "    <tr>\n",
       "      <th>9992</th>\n",
       "      <td>13.3200</td>\n",
       "      <td>West</td>\n",
       "    </tr>\n",
       "    <tr>\n",
       "      <th>9993</th>\n",
       "      <td>72.9480</td>\n",
       "      <td>West</td>\n",
       "    </tr>\n",
       "  </tbody>\n",
       "</table>\n",
       "<p>9887 rows × 2 columns</p>\n",
       "</div>"
      ],
      "text/plain": [
       "        Profit Region\n",
       "0      41.9136  South\n",
       "1     219.5820  South\n",
       "2       6.8714   West\n",
       "3    -383.0310  South\n",
       "4       2.5164  South\n",
       "...        ...    ...\n",
       "9989    4.1028  South\n",
       "9990   15.6332   West\n",
       "9991   19.3932   West\n",
       "9992   13.3200   West\n",
       "9993   72.9480   West\n",
       "\n",
       "[9887 rows x 2 columns]"
      ]
     },
     "execution_count": 17,
     "metadata": {},
     "output_type": "execute_result"
    }
   ],
   "source": [
    "n_sigma = 3\n",
    "df_profit_cleaned = df[ df[\"Profit\"]<(avg + n_sigma*std)]\n",
    "df_profit_cleaned = df_profit_cleaned[df_profit_cleaned[\"Profit\"]>(avg - n_sigma*std) ]\n",
    "df_profit_cleaned"
   ]
  },
  {
   "cell_type": "markdown",
   "id": "39690c7f-c059-46c0-aa96-1144906bed9c",
   "metadata": {},
   "source": [
    "### getting the statistical properties for the cleaned data"
   ]
  },
  {
   "cell_type": "code",
   "execution_count": 18,
   "id": "071b4bd3-d34e-4f8f-a93a-5795e391092d",
   "metadata": {},
   "outputs": [
    {
     "name": "stdout",
     "output_type": "stream",
     "text": [
      "profit_sumation: 228994.66\n",
      "profit_sumation_negative: -97904.86\n",
      "profit_sumation_positive: 326899.52\n",
      "profit_greater_value: 726.56\n",
      "profit_smaller_value: -653.28\n"
     ]
    }
   ],
   "source": [
    "profit_sumation =df_profit_cleaned[\"Profit\"].sum()\n",
    "profit_sumation_negative = df_profit_cleaned[\"Profit\"][df_profit_cleaned[\"Profit\"]<=0].sum()\n",
    "profit_sumation_positive = df_profit_cleaned[\"Profit\"][df_profit_cleaned[\"Profit\"]>0].sum()\n",
    "profit_greater_value = df_profit_cleaned[\"Profit\"].max()\n",
    "profit_smaller_value = df_profit_cleaned[\"Profit\"].min()\n",
    "print(f\"profit_sumation: {profit_sumation:.2f}\")\n",
    "print(f\"profit_sumation_negative: {profit_sumation_negative:.2f}\")\n",
    "print(f\"profit_sumation_positive: {profit_sumation_positive:.2f}\")\n",
    "print(f\"profit_greater_value: {profit_greater_value:.2f}\")\n",
    "print(f\"profit_smaller_value: {profit_smaller_value:.2f}\")"
   ]
  },
  {
   "cell_type": "code",
   "execution_count": 19,
   "id": "a34a8308-b690-4cda-a187-80a92b9bb608",
   "metadata": {},
   "outputs": [
    {
     "name": "stdout",
     "output_type": "stream",
     "text": [
      "average: 23.16\n",
      "std: 88.46\n"
     ]
    }
   ],
   "source": [
    "df_profit_cleaned_avg = np.average(df_profit_cleaned[\"Profit\"])\n",
    "df_profit_cleaned_std = np.std(df_profit_cleaned[\"Profit\"])\n",
    "print(f\"average: {df_profit_cleaned_avg:.2f}\")\n",
    "print(f\"std: {df_profit_cleaned_std:.2f}\")"
   ]
  },
  {
   "cell_type": "code",
   "execution_count": 20,
   "id": "3471b8a4-30f5-4b3b-8484-aa5476983f36",
   "metadata": {},
   "outputs": [
    {
     "data": {
      "text/plain": [
       "<seaborn.axisgrid.FacetGrid at 0x719fdff6afe0>"
      ]
     },
     "execution_count": 20,
     "metadata": {},
     "output_type": "execute_result"
    },
    {
     "data": {
      "image/png": "[encoded data removed]",
      "text/plain": [
       "<Figure size 500x500 with 1 Axes>"
      ]
     },
     "metadata": {},
     "output_type": "display_data"
    }
   ],
   "source": [
    "n_sigma = 3\n",
    "df_profit_cleaned = df[ df[\"Profit\"]<(avg + n_sigma*std)]\n",
    "df_profit_cleaned = df_profit_cleaned[df_profit_cleaned[\"Profit\"]>(avg - n_sigma*std) ]\n",
    "df_profit_cleaned\n",
    "sns.displot(df_profit_cleaned[\"Profit\"], binwidth=25)"
   ]
  },
  {
   "cell_type": "code",
   "execution_count": null,
   "id": "6b897399-5e2c-4ca1-9949-9a2e882d0048",
   "metadata": {},
   "outputs": [],
   "source": []
  }
 ],
 "metadata": {
  "kernelspec": {
   "display_name": "Python 3 (ipykernel)",
   "language": "python",
   "name": "python3"
  },
  "language_info": {
   "codemirror_mode": {
    "name": "ipython",
    "version": 3
   },
   "file_extension": ".py",
   "mimetype": "text/x-python",
   "name": "python",
   "nbconvert_exporter": "python",
   "pygments_lexer": "ipython3",
   "version": "3.10.12"
  }
 },
 "nbformat": 4,
 "nbformat_minor": 5
}
